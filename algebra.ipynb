{
 "cells": [
  {
   "cell_type": "code",
   "execution_count": 3,
   "metadata": {},
   "outputs": [],
   "source": [
    "import numpy as np\n",
    "import sympy"
   ]
  },
  {
   "cell_type": "code",
   "execution_count": 4,
   "metadata": {},
   "outputs": [],
   "source": [
    "def rref(matrix):\n",
    "    \"\"\"Returns the reduced row echelon form of the matrix\"\"\"\n",
    "    return sympy.Matrix(matrix).rref(pivots=False)"
   ]
  },
  {
   "cell_type": "code",
   "execution_count": 5,
   "metadata": {},
   "outputs": [],
   "source": [
    "def is_invertible(matrix):\n",
    "    \"\"\"Return True if matrix is non-singular, False otherwise\"\"\"\n",
    "    # checks whether column number not equals row number\n",
    "    if len(matrix) != len(matrix[0]):\n",
    "        return False\n",
    "    for pivot in np.diag(rref(matrix)):\n",
    "        # checks if there is a leading one in each row\n",
    "        if pivot != 1:\n",
    "            return False\n",
    "    return True"
   ]
  },
  {
   "cell_type": "code",
   "execution_count": 6,
   "metadata": {},
   "outputs": [],
   "source": [
    "def is_dependent(matrix):\n",
    "    \"\"\"Return True if matrix is dependent, False otherwise\"\"\"\n",
    "    if len(matrix[0]) == 1:\n",
    "        count = 0\n",
    "        for row in matrix:\n",
    "            if row[0] == 0:\n",
    "                count += 1\n",
    "        if count == len(matrix):\n",
    "            return True\n",
    "        return False\n",
    "    \n",
    "    # returns True if number of entries(rows) in the matrix is less that vectors(columns)\n",
    "    if len(matrix) < len(matrix[0]):\n",
    "        return True\n",
    "    \n",
    "    # invertible matrix are linearly independent\n",
    "    if len(matrix) == len(matrix[0]):\n",
    "        if is_invertible(matrix) == True:\n",
    "            return False\n",
    "        \n",
    "    piv_num = 0 # stores the number of pivots in each column of matrix\n",
    "    for i in range(len(matrix[0])):\n",
    "        if np.array(rref(matrix))[i][i] == 1:\n",
    "            piv_num += 1\n",
    "    # checks if number of pivots equals number of columns\n",
    "    if piv_num == len(matrix[0]):\n",
    "        return False\n",
    "    return True"
   ]
  },
  {
   "cell_type": "code",
   "execution_count": 7,
   "metadata": {},
   "outputs": [],
   "source": [
    "def span_b(matrix, vector):\n",
    "    \"\"\"Returns True if matrix spans vector\"\"\"\n",
    "    if is_invertible(matrix) == True:\n",
    "        return True\n",
    "    \n",
    "    aug_matrix = matrix.copy()\n",
    "    for i in range(len(aug_matrix)):\n",
    "        aug_matrix[i].append(vector[i][0])\n",
    "    if is_dependent(aug_matrix) == False:\n",
    "        return False\n",
    "    \n",
    "    try:\n",
    "        np.linalg.solve(matrix, vector)\n",
    "    except:\n",
    "        pivots = 0\n",
    "        for row in np.array(rref(aug_matrix)):\n",
    "            if 1 in row:\n",
    "                pivots += 1\n",
    "        if pivots == len(aug_matrix):\n",
    "            return True\n",
    "        return False\n",
    "    else:\n",
    "        return True"
   ]
  },
  {
   "cell_type": "code",
   "execution_count": 8,
   "metadata": {},
   "outputs": [],
   "source": [
    "def consistent(aug_matrix):\n",
    "    \"\"\"Returns True if the system is consistent, False otherwise\"\"\"\n",
    "    vector = []\n",
    "    for row in aug_matrix:\n",
    "        popped = row.pop(-1)\n",
    "        vector.append([popped])\n",
    "        \n",
    "    matrix = aug_matrix\n",
    "    if span_b(matrix, vector) == True:\n",
    "        return True\n",
    "    return False"
   ]
  },
  {
   "cell_type": "code",
   "execution_count": 9,
   "metadata": {},
   "outputs": [],
   "source": [
    "def unique(aug_matrix):\n",
    "    \"\"\"Returns True if the system is unique, False otherwise\"\"\"\n",
    "    if consistent(aug_matrix) == False:\n",
    "        return False\n",
    "    \n",
    "    vector = []\n",
    "    for row in aug_matrix:\n",
    "        popped = row.pop(-1)\n",
    "        vector.append([popped])\n",
    "    matrix = aug_matrix\n",
    "    try:\n",
    "        np.linalg.solve(matrix, vector)\n",
    "    except:\n",
    "        return False\n",
    "    else:\n",
    "        return True"
   ]
  },
  {
   "cell_type": "code",
   "execution_count": 10,
   "metadata": {},
   "outputs": [],
   "source": [
    "def col_basis(matrix):\n",
    "    \"\"\"Returns the basis of the column space of matrix\"\"\"\n",
    "    if is_invertible(matrix) == True:\n",
    "        print(\"Span{\", end=\"\")\n",
    "        for i in range(len(matrix)):\n",
    "            basis = np.array(matrix).T[i]\n",
    "            print(basis, end=\",\")\n",
    "        return \"}\"\n",
    "\n",
    "    print(\"Span{\", end=\"\")\n",
    "    for i, row in enumerate(np.array(rref(matrix)).T):\n",
    "        if 1 in row:\n",
    "            basis = np.array(matrix).T[i]\n",
    "            print(basis, end=\",\")\n",
    "    print(\"}\")"
   ]
  },
  {
   "cell_type": "code",
   "execution_count": 11,
   "metadata": {},
   "outputs": [
    {
     "name": "stdout",
     "output_type": "stream",
     "text": [
      "Span{[ 8  9 -3 -6  0],[ 4  5  1 -4  4],[-1 -4 -9  6 -7],}\n"
     ]
    }
   ],
   "source": [
    "A = [[8,4,-1,6,-1],\n",
    "    [9,5,-4,8,4],\n",
    "    [-3,1,-9,4,11],\n",
    "    [-6,-4,6,-7,-8],\n",
    "    [0,4,-7,10,-7]]\n",
    "col_basis(A)"
   ]
  },
  {
   "cell_type": "code",
   "execution_count": 12,
   "metadata": {},
   "outputs": [
    {
     "data": {
      "text/latex": [
       "$\\displaystyle \\left[\\begin{matrix}1 & 0 & 1 & 0 & 1\\\\0 & 1 & -2 & 0 & 3\\\\0 & 0 & 0 & 1 & -5\\\\0 & 0 & 0 & 0 & 0\\end{matrix}\\right]$"
      ],
      "text/plain": [
       "Matrix([\n",
       "[1, 0,  1, 0,  1],\n",
       "[0, 1, -2, 0,  3],\n",
       "[0, 0,  0, 1, -5],\n",
       "[0, 0,  0, 0,  0]])"
      ]
     },
     "execution_count": 12,
     "metadata": {},
     "output_type": "execute_result"
    }
   ],
   "source": [
    "rref([[-2,-5,8,0,-17],\n",
    "     [1,3,-5,1,5],\n",
    "     [3,11,-19,7,1],\n",
    "     [1,7,-13,5,-3]])"
   ]
  },
  {
   "cell_type": "code",
   "execution_count": 13,
   "metadata": {},
   "outputs": [
    {
     "data": {
      "text/latex": [
       "$\\displaystyle \\left[\\begin{matrix}1 & 0 & 0 & -6\\\\0 & 1 & 0 & 1\\\\0 & 0 & 1 & 3\\end{matrix}\\right]$"
      ],
      "text/plain": [
       "Matrix([\n",
       "[1, 0, 0, -6],\n",
       "[0, 1, 0,  1],\n",
       "[0, 0, 1,  3]])"
      ]
     },
     "execution_count": 13,
     "metadata": {},
     "output_type": "execute_result"
    }
   ],
   "source": [
    "rref([[-1,-2,1,7],\n",
    "     [-2,-1,-2,5],\n",
    "     [1,8,1,5]])"
   ]
  },
  {
   "cell_type": "code",
   "execution_count": null,
   "metadata": {},
   "outputs": [],
   "source": []
  }
 ],
 "metadata": {
  "kernelspec": {
   "display_name": "Python 3 (ipykernel)",
   "language": "python",
   "name": "python3"
  },
  "language_info": {
   "codemirror_mode": {
    "name": "ipython",
    "version": 3
   },
   "file_extension": ".py",
   "mimetype": "text/x-python",
   "name": "python",
   "nbconvert_exporter": "python",
   "pygments_lexer": "ipython3",
   "version": "3.10.2"
  }
 },
 "nbformat": 4,
 "nbformat_minor": 4
}
